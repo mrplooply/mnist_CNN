{
  "nbformat": 4,
  "nbformat_minor": 0,
  "metadata": {
    "colab": {
      "provenance": [],
      "gpuType": "T4"
    },
    "kernelspec": {
      "name": "python3",
      "display_name": "Python 3"
    },
    "language_info": {
      "name": "python"
    },
    "accelerator": "GPU"
  },
  "cells": [
    {
      "cell_type": "code",
      "execution_count": 37,
      "metadata": {
        "id": "_fvEzs7czL5q"
      },
      "outputs": [],
      "source": [
        "import torch\n",
        "import torch.nn as nn\n",
        "import torch.nn.functional as F\n",
        "import torch.optim as optim\n",
        "from torch.utils.data import DataLoader, TensorDataset, Dataset, random_split\n",
        "import torchvision\n",
        "from torchvision import datasets, transforms\n",
        "import matplotlib.pyplot as plt\n",
        "import numpy as np\n",
        "import pandas as pd"
      ]
    },
    {
      "cell_type": "code",
      "source": [
        "from google.colab import drive\n",
        "drive.mount('/content/drive')"
      ],
      "metadata": {
        "colab": {
          "base_uri": "https://localhost:8080/"
        },
        "id": "ho2XIkAwz4qo",
        "outputId": "7da8f06c-c71d-483f-d1c5-bc03c817651f"
      },
      "execution_count": 2,
      "outputs": [
        {
          "output_type": "stream",
          "name": "stdout",
          "text": [
            "Mounted at /content/drive\n"
          ]
        }
      ]
    },
    {
      "cell_type": "code",
      "source": [
        "train = pd.read_csv('/content/drive/MyDrive/Kaggle_digits/train.csv')\n",
        "test = pd.read_csv('/content/drive/MyDrive/Kaggle_digits/test.csv')"
      ],
      "metadata": {
        "id": "qz8oQFW7z5MP"
      },
      "execution_count": 131,
      "outputs": []
    },
    {
      "cell_type": "code",
      "source": [
        "#@title Check for nan\n",
        "\n",
        "train[train.isnull().any(axis=1)]"
      ],
      "metadata": {
        "colab": {
          "base_uri": "https://localhost:8080/",
          "height": 99
        },
        "cellView": "form",
        "id": "G64wRm_j1Piu",
        "outputId": "3278c18c-b6c6-41e2-ba1b-d0df59e378bd"
      },
      "execution_count": 4,
      "outputs": [
        {
          "output_type": "execute_result",
          "data": {
            "text/plain": [
              "Empty DataFrame\n",
              "Columns: [label, pixel0, pixel1, pixel2, pixel3, pixel4, pixel5, pixel6, pixel7, pixel8, pixel9, pixel10, pixel11, pixel12, pixel13, pixel14, pixel15, pixel16, pixel17, pixel18, pixel19, pixel20, pixel21, pixel22, pixel23, pixel24, pixel25, pixel26, pixel27, pixel28, pixel29, pixel30, pixel31, pixel32, pixel33, pixel34, pixel35, pixel36, pixel37, pixel38, pixel39, pixel40, pixel41, pixel42, pixel43, pixel44, pixel45, pixel46, pixel47, pixel48, pixel49, pixel50, pixel51, pixel52, pixel53, pixel54, pixel55, pixel56, pixel57, pixel58, pixel59, pixel60, pixel61, pixel62, pixel63, pixel64, pixel65, pixel66, pixel67, pixel68, pixel69, pixel70, pixel71, pixel72, pixel73, pixel74, pixel75, pixel76, pixel77, pixel78, pixel79, pixel80, pixel81, pixel82, pixel83, pixel84, pixel85, pixel86, pixel87, pixel88, pixel89, pixel90, pixel91, pixel92, pixel93, pixel94, pixel95, pixel96, pixel97, pixel98, ...]\n",
              "Index: []\n",
              "\n",
              "[0 rows x 785 columns]"
            ],
            "text/html": [
              "\n",
              "  <div id=\"df-2494c566-e70e-401e-8a12-59fb17cdbd44\" class=\"colab-df-container\">\n",
              "    <div>\n",
              "<style scoped>\n",
              "    .dataframe tbody tr th:only-of-type {\n",
              "        vertical-align: middle;\n",
              "    }\n",
              "\n",
              "    .dataframe tbody tr th {\n",
              "        vertical-align: top;\n",
              "    }\n",
              "\n",
              "    .dataframe thead th {\n",
              "        text-align: right;\n",
              "    }\n",
              "</style>\n",
              "<table border=\"1\" class=\"dataframe\">\n",
              "  <thead>\n",
              "    <tr style=\"text-align: right;\">\n",
              "      <th></th>\n",
              "      <th>label</th>\n",
              "      <th>pixel0</th>\n",
              "      <th>pixel1</th>\n",
              "      <th>pixel2</th>\n",
              "      <th>pixel3</th>\n",
              "      <th>pixel4</th>\n",
              "      <th>pixel5</th>\n",
              "      <th>pixel6</th>\n",
              "      <th>pixel7</th>\n",
              "      <th>pixel8</th>\n",
              "      <th>...</th>\n",
              "      <th>pixel774</th>\n",
              "      <th>pixel775</th>\n",
              "      <th>pixel776</th>\n",
              "      <th>pixel777</th>\n",
              "      <th>pixel778</th>\n",
              "      <th>pixel779</th>\n",
              "      <th>pixel780</th>\n",
              "      <th>pixel781</th>\n",
              "      <th>pixel782</th>\n",
              "      <th>pixel783</th>\n",
              "    </tr>\n",
              "  </thead>\n",
              "  <tbody>\n",
              "  </tbody>\n",
              "</table>\n",
              "<p>0 rows × 785 columns</p>\n",
              "</div>\n",
              "    <div class=\"colab-df-buttons\">\n",
              "\n",
              "  <div class=\"colab-df-container\">\n",
              "    <button class=\"colab-df-convert\" onclick=\"convertToInteractive('df-2494c566-e70e-401e-8a12-59fb17cdbd44')\"\n",
              "            title=\"Convert this dataframe to an interactive table.\"\n",
              "            style=\"display:none;\">\n",
              "\n",
              "  <svg xmlns=\"http://www.w3.org/2000/svg\" height=\"24px\" viewBox=\"0 -960 960 960\">\n",
              "    <path d=\"M120-120v-720h720v720H120Zm60-500h600v-160H180v160Zm220 220h160v-160H400v160Zm0 220h160v-160H400v160ZM180-400h160v-160H180v160Zm440 0h160v-160H620v160ZM180-180h160v-160H180v160Zm440 0h160v-160H620v160Z\"/>\n",
              "  </svg>\n",
              "    </button>\n",
              "\n",
              "  <style>\n",
              "    .colab-df-container {\n",
              "      display:flex;\n",
              "      gap: 12px;\n",
              "    }\n",
              "\n",
              "    .colab-df-convert {\n",
              "      background-color: #E8F0FE;\n",
              "      border: none;\n",
              "      border-radius: 50%;\n",
              "      cursor: pointer;\n",
              "      display: none;\n",
              "      fill: #1967D2;\n",
              "      height: 32px;\n",
              "      padding: 0 0 0 0;\n",
              "      width: 32px;\n",
              "    }\n",
              "\n",
              "    .colab-df-convert:hover {\n",
              "      background-color: #E2EBFA;\n",
              "      box-shadow: 0px 1px 2px rgba(60, 64, 67, 0.3), 0px 1px 3px 1px rgba(60, 64, 67, 0.15);\n",
              "      fill: #174EA6;\n",
              "    }\n",
              "\n",
              "    .colab-df-buttons div {\n",
              "      margin-bottom: 4px;\n",
              "    }\n",
              "\n",
              "    [theme=dark] .colab-df-convert {\n",
              "      background-color: #3B4455;\n",
              "      fill: #D2E3FC;\n",
              "    }\n",
              "\n",
              "    [theme=dark] .colab-df-convert:hover {\n",
              "      background-color: #434B5C;\n",
              "      box-shadow: 0px 1px 3px 1px rgba(0, 0, 0, 0.15);\n",
              "      filter: drop-shadow(0px 1px 2px rgba(0, 0, 0, 0.3));\n",
              "      fill: #FFFFFF;\n",
              "    }\n",
              "  </style>\n",
              "\n",
              "    <script>\n",
              "      const buttonEl =\n",
              "        document.querySelector('#df-2494c566-e70e-401e-8a12-59fb17cdbd44 button.colab-df-convert');\n",
              "      buttonEl.style.display =\n",
              "        google.colab.kernel.accessAllowed ? 'block' : 'none';\n",
              "\n",
              "      async function convertToInteractive(key) {\n",
              "        const element = document.querySelector('#df-2494c566-e70e-401e-8a12-59fb17cdbd44');\n",
              "        const dataTable =\n",
              "          await google.colab.kernel.invokeFunction('convertToInteractive',\n",
              "                                                    [key], {});\n",
              "        if (!dataTable) return;\n",
              "\n",
              "        const docLinkHtml = 'Like what you see? Visit the ' +\n",
              "          '<a target=\"_blank\" href=https://colab.research.google.com/notebooks/data_table.ipynb>data table notebook</a>'\n",
              "          + ' to learn more about interactive tables.';\n",
              "        element.innerHTML = '';\n",
              "        dataTable['output_type'] = 'display_data';\n",
              "        await google.colab.output.renderOutput(dataTable, element);\n",
              "        const docLink = document.createElement('div');\n",
              "        docLink.innerHTML = docLinkHtml;\n",
              "        element.appendChild(docLink);\n",
              "      }\n",
              "    </script>\n",
              "  </div>\n",
              "\n",
              "\n",
              "    </div>\n",
              "  </div>\n"
            ]
          },
          "metadata": {},
          "execution_count": 4
        }
      ]
    },
    {
      "cell_type": "code",
      "source": [
        "y_train = train['label']\n",
        "train1 = train.drop(['label'], axis=1).values\n",
        "X_train = train1.reshape(len(train1), 28, 28)"
      ],
      "metadata": {
        "id": "S2cUBwmv93ZC"
      },
      "execution_count": 41,
      "outputs": []
    },
    {
      "cell_type": "code",
      "source": [
        "X_train_norm = (X_train-X_train.mean()) / X_train.std()"
      ],
      "metadata": {
        "id": "5tvRJzOyBuZz"
      },
      "execution_count": 42,
      "outputs": []
    },
    {
      "cell_type": "code",
      "source": [
        "device = torch.device(\"cuda\" if torch.cuda.is_available() else \"cpu\")\n",
        "device"
      ],
      "metadata": {
        "colab": {
          "base_uri": "https://localhost:8080/"
        },
        "id": "WNJpdw2w_Z30",
        "outputId": "9ab367a2-1972-4eda-dd34-f880a6eaaa36"
      },
      "execution_count": 43,
      "outputs": [
        {
          "output_type": "execute_result",
          "data": {
            "text/plain": [
              "device(type='cuda')"
            ]
          },
          "metadata": {},
          "execution_count": 43
        }
      ]
    },
    {
      "cell_type": "code",
      "source": [
        "tensor_X_train = torch.tensor(\n",
        "    data=X_train_norm, dtype=torch.float, device=device\n",
        ")\n",
        "tensor_X_train = tensor_X_train.unsqueeze(dim=1)\n",
        "\n",
        "tensor_y_train = torch.tensor(\n",
        "    data=y_train, dtype=torch.long, device=device\n",
        ")"
      ],
      "metadata": {
        "id": "Y0CExFgI_cxv"
      },
      "execution_count": 61,
      "outputs": []
    },
    {
      "cell_type": "code",
      "source": [
        "full_ds = TensorDataset(tensor_X_train, tensor_y_train)\n",
        "train_ds, val_ds = random_split(full_ds, lengths=[0.9, 0.1])\n",
        "\n",
        "print(len(train_ds))\n",
        "print(len(val_ds))"
      ],
      "metadata": {
        "colab": {
          "base_uri": "https://localhost:8080/"
        },
        "id": "vlXhXKA8-Dt2",
        "outputId": "7e329a6b-dcdc-4fe5-bbb8-0b9e258bea85"
      },
      "execution_count": 62,
      "outputs": [
        {
          "output_type": "stream",
          "name": "stdout",
          "text": [
            "37800\n",
            "4200\n"
          ]
        }
      ]
    },
    {
      "cell_type": "code",
      "source": [
        "train_loader = DataLoader(train_ds, batch_size=64, shuffle=True)\n",
        "val_loader = DataLoader(val_ds, batch_size=64, shuffle=False)"
      ],
      "metadata": {
        "id": "aBsV00IMBFgj"
      },
      "execution_count": 63,
      "outputs": []
    },
    {
      "cell_type": "code",
      "source": [
        "train_ds[0][0].dtype"
      ],
      "metadata": {
        "colab": {
          "base_uri": "https://localhost:8080/"
        },
        "id": "V2pQLyWFDYSm",
        "outputId": "605dd5f9-4cdb-4c83-d47d-3996fec07b58"
      },
      "execution_count": 72,
      "outputs": [
        {
          "output_type": "execute_result",
          "data": {
            "text/plain": [
              "torch.float32"
            ]
          },
          "metadata": {},
          "execution_count": 72
        }
      ]
    },
    {
      "cell_type": "code",
      "source": [
        "class SimpleCNN(nn.Module):\n",
        "    def __init__(self):\n",
        "      super(SimpleCNN, self).__init__()\n",
        "\n",
        "      # Layer 1\n",
        "      self.layer1 = nn.Conv2d(in_channels=1, out_channels=32, kernel_size=(3,3), stride=2, padding=1)\n",
        "      self.bn1 = nn.BatchNorm2d(32)\n",
        "      self.relu1 = nn.ReLU()\n",
        "\n",
        "      # Layer 2\n",
        "      self.layer2 = nn.Conv2d(in_channels=32, out_channels=64, kernel_size=(3,3), stride=2, padding=1)\n",
        "      self.bn2 = nn.BatchNorm2d(64)\n",
        "      self.relu2 = nn.ReLU()\n",
        "\n",
        "      # Flatten\n",
        "      self.flatten = nn.Flatten()\n",
        "\n",
        "      # Layer 3\n",
        "      self.layer3 = nn.Linear(3136, 1024)\n",
        "      self.bn3 = nn.BatchNorm1d(1024)\n",
        "      self.relu3 = nn.ReLU()\n",
        "\n",
        "      #Layer 4\n",
        "      self.layer4 = nn.Linear(1024,10)\n",
        "      self.softmax = nn.Softmax(dim=1)\n",
        "\n",
        "    def forward(self, x):\n",
        "      x = self.layer1(x)\n",
        "      x = self.bn1(x)\n",
        "      x = self.relu1(x)\n",
        "\n",
        "      x = self.layer2(x)\n",
        "      x = self.bn2(x)\n",
        "      x = self.relu2(x)\n",
        "\n",
        "      x = self.flatten(x)\n",
        "\n",
        "      x = self.layer3(x)\n",
        "      x = self.bn3(x)\n",
        "      x = self.relu3(x)\n",
        "\n",
        "      x = self.layer4(x)\n",
        "      x = self.softmax(x)\n",
        "\n",
        "      return x\n",
        "\n",
        "model = SimpleCNN().to(device)"
      ],
      "metadata": {
        "id": "N5ZoKVWn3DI9"
      },
      "execution_count": 92,
      "outputs": []
    },
    {
      "cell_type": "code",
      "source": [
        "criterion = nn.CrossEntropyLoss()\n",
        "optimizer = optim.SGD(model.parameters(), lr=0.01, momentum=0.9)"
      ],
      "metadata": {
        "id": "mkyeY-ZR0O5K"
      },
      "execution_count": 93,
      "outputs": []
    },
    {
      "cell_type": "code",
      "source": [
        "# Training loop\n",
        "def train_loop(model, train_loader, val_loader, criterion, optimizer):\n",
        "    n_epochs = 20\n",
        "    for epoch in range(n_epochs):\n",
        "        model.train()\n",
        "        for inputs, labels in train_loader:\n",
        "            optimizer.zero_grad()\n",
        "            predicted = model(inputs)\n",
        "            loss = criterion(predicted, labels)\n",
        "            loss.backward()\n",
        "            optimizer.step()\n",
        "        # Validation\n",
        "        model.eval()\n",
        "        val_loss = 0.0\n",
        "        correct = 0\n",
        "        total = 0\n",
        "        with torch.no_grad():\n",
        "            for inputs, labels in val_loader:\n",
        "                outputs = model(inputs)\n",
        "                val_loss = criterion(outputs, labels).item()\n",
        "                _, predicted = torch.max(outputs, 1)\n",
        "                total += labels.size(0)\n",
        "                correct += (predicted == labels.squeeze()).sum().item()\n",
        "\n",
        "        print(f'Epoch {epoch+1}/{n_epochs}, Loss: {val_loss/len(val_loader):.4f}, Accuracy: {correct/total:.4f}')"
      ],
      "metadata": {
        "id": "maJ3saK70VeA"
      },
      "execution_count": 80,
      "outputs": []
    },
    {
      "cell_type": "code",
      "source": [
        "# Evaluation\n",
        "def test_loop(model, test_loader, criterion):\n",
        "    model.eval()\n",
        "    test_loss = 0.0\n",
        "    correct = 0\n",
        "    total = 0\n",
        "    with torch.no_grad():\n",
        "        for inputs, labels in test_loader:\n",
        "            outputs = model(inputs)\n",
        "            test_loss = criterion(outputs, labels).item()\n",
        "            _, predicted = torch.max(outputs, 1)\n",
        "            total += labels.size(0)\n",
        "            correct += (predicted == labels.squeeze()).sum().item()\n",
        "\n",
        "    print(f'Test Loss: {test_loss/len(test_loader):.4f}, Test Accuracy: {correct/total:.4f}')\n"
      ],
      "metadata": {
        "id": "G5PLuifb0ZOp"
      },
      "execution_count": 50,
      "outputs": []
    },
    {
      "cell_type": "code",
      "source": [
        "train_loop(model, train_loader, val_loader, criterion, optimizer)"
      ],
      "metadata": {
        "colab": {
          "base_uri": "https://localhost:8080/"
        },
        "id": "24I2Vxz10htm",
        "outputId": "175b4b0a-2281-4a72-d07d-d81e772c8b53"
      },
      "execution_count": 94,
      "outputs": [
        {
          "output_type": "stream",
          "name": "stdout",
          "text": [
            "Epoch 1/20, Loss: 0.0229, Accuracy: 0.9736\n",
            "Epoch 2/20, Loss: 0.0224, Accuracy: 0.9793\n",
            "Epoch 3/20, Loss: 0.0224, Accuracy: 0.9826\n",
            "Epoch 4/20, Loss: 0.0222, Accuracy: 0.9848\n",
            "Epoch 5/20, Loss: 0.0222, Accuracy: 0.9845\n",
            "Epoch 6/20, Loss: 0.0222, Accuracy: 0.9848\n",
            "Epoch 7/20, Loss: 0.0223, Accuracy: 0.9850\n",
            "Epoch 8/20, Loss: 0.0222, Accuracy: 0.9857\n",
            "Epoch 9/20, Loss: 0.0222, Accuracy: 0.9876\n",
            "Epoch 10/20, Loss: 0.0221, Accuracy: 0.9857\n",
            "Epoch 11/20, Loss: 0.0221, Accuracy: 0.9867\n",
            "Epoch 12/20, Loss: 0.0221, Accuracy: 0.9881\n",
            "Epoch 13/20, Loss: 0.0221, Accuracy: 0.9883\n",
            "Epoch 14/20, Loss: 0.0221, Accuracy: 0.9888\n",
            "Epoch 15/20, Loss: 0.0222, Accuracy: 0.9879\n",
            "Epoch 16/20, Loss: 0.0221, Accuracy: 0.9876\n",
            "Epoch 17/20, Loss: 0.0222, Accuracy: 0.9876\n",
            "Epoch 18/20, Loss: 0.0221, Accuracy: 0.9864\n",
            "Epoch 19/20, Loss: 0.0221, Accuracy: 0.9867\n",
            "Epoch 20/20, Loss: 0.0221, Accuracy: 0.9869\n"
          ]
        }
      ]
    },
    {
      "cell_type": "code",
      "source": [
        "id = test.index.values\n",
        "test1 = test.values\n",
        "X_test1 = test1.reshape(len(test), 28, 28)\n",
        "id = id + 1"
      ],
      "metadata": {
        "id": "NmQK-xrTIEDu"
      },
      "execution_count": 132,
      "outputs": []
    },
    {
      "cell_type": "code",
      "source": [
        "X_test1.shape"
      ],
      "metadata": {
        "colab": {
          "base_uri": "https://localhost:8080/"
        },
        "id": "P081X9DgLYQY",
        "outputId": "9f7ba965-30c3-467a-8a09-d8c5f5f5effd"
      },
      "execution_count": 133,
      "outputs": [
        {
          "output_type": "execute_result",
          "data": {
            "text/plain": [
              "(28000, 28, 28)"
            ]
          },
          "metadata": {},
          "execution_count": 133
        }
      ]
    },
    {
      "cell_type": "code",
      "source": [
        "X_test = (X_test1-X_test1.mean()) / X_test1.std()\n",
        "X_test.shape"
      ],
      "metadata": {
        "colab": {
          "base_uri": "https://localhost:8080/"
        },
        "id": "KGPN5qHXJZrO",
        "outputId": "62f53c9a-f6df-4543-cac5-ec9ee678d7a6"
      },
      "execution_count": 134,
      "outputs": [
        {
          "output_type": "execute_result",
          "data": {
            "text/plain": [
              "(28000, 28, 28)"
            ]
          },
          "metadata": {},
          "execution_count": 134
        }
      ]
    },
    {
      "cell_type": "code",
      "source": [
        "tensor_X_test = torch.tensor(\n",
        "    data=X_test, dtype=torch.float, device=device\n",
        ")\n",
        "X_test = tensor_X_test.unsqueeze(dim=1)\n",
        "X_test.shape"
      ],
      "metadata": {
        "colab": {
          "base_uri": "https://localhost:8080/"
        },
        "id": "eYgMsMDhKl57",
        "outputId": "3224553b-cecd-4463-bedf-28c171c2a5d7"
      },
      "execution_count": 135,
      "outputs": [
        {
          "output_type": "execute_result",
          "data": {
            "text/plain": [
              "torch.Size([28000, 1, 28, 28])"
            ]
          },
          "metadata": {},
          "execution_count": 135
        }
      ]
    },
    {
      "cell_type": "code",
      "source": [
        "pred = model(X_test)"
      ],
      "metadata": {
        "id": "RSpdJiGMLC58"
      },
      "execution_count": 136,
      "outputs": []
    },
    {
      "cell_type": "code",
      "source": [
        "pred = pred.max(1)[1].cpu().numpy()"
      ],
      "metadata": {
        "id": "CC8XJlciLzi9"
      },
      "execution_count": 150,
      "outputs": []
    },
    {
      "cell_type": "code",
      "source": [
        "submission = pd.DataFrame({'ImageId': id, 'Label': pred})\n",
        "submission.to_csv('submission.csv', index=False)"
      ],
      "metadata": {
        "id": "BwcCEhleM1oM"
      },
      "execution_count": 154,
      "outputs": []
    }
  ]
}